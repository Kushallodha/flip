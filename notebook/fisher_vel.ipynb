{
 "cells": [
  {
   "cell_type": "code",
   "execution_count": 1,
   "id": "681b704a-ecb1-4f32-b411-cd2b5c47a8c2",
   "metadata": {
    "tags": []
   },
   "outputs": [
    {
     "name": "stderr",
     "output_type": "stream",
     "text": [
      "/tmp/ipykernel_967235/3270887735.py:5: DeprecationWarning: pkg_resources is deprecated as an API. See https://setuptools.pypa.io/en/latest/pkg_resources.html\n",
      "  from pkg_resources import resource_filename\n",
      "[ 000000.00 ]: 09-18 12:01  root            INFO     No pypower module detected, gridding with this method is unavailable\n"
     ]
    }
   ],
   "source": [
    "import os\n",
    "\n",
    "import numpy as np\n",
    "import pandas as pd\n",
    "from pkg_resources import resource_filename\n",
    "\n",
    "from flip import fisher, utils, data_vector\n",
    "from flip.covariance import covariance\n",
    "\n",
    "flip_base = resource_filename(\"flip\", \".\")\n",
    "data_path = os.path.join(flip_base, \"data\")"
   ]
  },
  {
   "cell_type": "code",
   "execution_count": 2,
   "id": "387ba8d3-a9cc-4d2e-9a80-03043a82783b",
   "metadata": {
    "tags": []
   },
   "outputs": [],
   "source": [
    "sn_data = pd.read_parquet(os.path.join(data_path, \"velocity_data.parquet\"))"
   ]
  },
  {
   "cell_type": "code",
   "execution_count": 3,
   "id": "1362a094-9198-41a0-8000-7e87244dde70",
   "metadata": {
    "tags": []
   },
   "outputs": [],
   "source": [
    "sn_data = sn_data[np.array(sn_data[\"status\"]) != False]\n",
    "sn_data = sn_data[np.array(sn_data[\"status\"]) != None]"
   ]
  },
  {
   "cell_type": "code",
   "execution_count": 5,
   "id": "91f7e242-97d8-44bb-b136-2501d8e1e0eb",
   "metadata": {
    "tags": []
   },
   "outputs": [
    {
     "name": "stdout",
     "output_type": "stream",
     "text": [
      "Data free parameters:  ['sigma_M']\n"
     ]
    }
   ],
   "source": [
    "DataFisher = data_vector.FisherVelFromHDres(sn_data.to_dict(orient='list'))\n",
    "print(\"Data free parameters: \", DataFisher.free_par)\n"
   ]
  },
  {
   "cell_type": "code",
   "execution_count": 6,
   "id": "735094e5-b2a4-4ac3-970b-4916be6a1686",
   "metadata": {
    "tags": []
   },
   "outputs": [
    {
     "name": "stderr",
     "output_type": "stream",
     "text": [
      "/pscratch/sd/b/bastienc/Soft/.miniconda3/envs/flip/lib/python3.11/multiprocessing/popen_fork.py:66: RuntimeWarning: os.fork() was called. os.fork() is incompatible with multithreaded code, and JAX is multithreaded, so this will likely lead to a deadlock.\n",
      "  self.pid = os.fork()\n",
      "[ 000000.86 ]: 09-18 12:01  root            INFO     Covariance matrix generated from flip with rcrk24 model in 1.29e+00 seconds\n"
     ]
    },
    {
     "name": "stdout",
     "output_type": "stream",
     "text": [
      "Covariance free parameters:  ['Om0', 'gamma', 'sigv']\n"
     ]
    }
   ],
   "source": [
    "ktt, ptt = np.loadtxt(os.path.join(data_path, \"power_spectrum_tt.txt\"))\n",
    "kmt, pmt = np.loadtxt(os.path.join(data_path, \"power_spectrum_mt.txt\"))\n",
    "kmm, pmm = np.loadtxt(os.path.join(data_path, \"power_spectrum_mm.txt\"))\n",
    "\n",
    "sigmau_fiducial = 15\n",
    "\n",
    "power_spectrum_dict = {\"vv\": [[ktt, ptt * utils.Du(ktt, sigmau_fiducial) ** 2]]}\n",
    "\n",
    "### Compute covariance\n",
    "size_batch = 10_000\n",
    "number_worker = 16\n",
    "\n",
    "covariance_fit = DataFisher.compute_cov(\n",
    "    \"rcrk24\",\n",
    "    power_spectrum_dict,\n",
    "    size_batch=size_batch,\n",
    "    number_worker=number_worker,\n",
    "    variant = 'growth_index'\n",
    ")\n",
    "print(\"Covariance free parameters: \", covariance_fit.free_par)\n"
   ]
  },
  {
   "cell_type": "code",
   "execution_count": 7,
   "id": "56cffe25-d883-450d-b777-b52dbcace973",
   "metadata": {
    "tags": []
   },
   "outputs": [],
   "source": [
    "fisher_properties = {\n",
    "    \"inversion_method\": \"inverse\",\n",
    "}\n"
   ]
  },
  {
   "cell_type": "code",
   "execution_count": 12,
   "id": "10cd0f36-0c81-4230-937a-3813e7a63813",
   "metadata": {
    "tags": []
   },
   "outputs": [],
   "source": [
    "parameter_dict = {\n",
    "    \"gamma\": 0.55,\n",
    "    \"Om0\": 0.3,\n",
    "    \"sigv\": 200,\n",
    "    \"sigma_M\": 0.12\n",
    "}\n",
    "\n",
    "Fisher = fisher.FisherMatrix.init_from_covariance(\n",
    "    covariance_fit,\n",
    "    DataFisher,\n",
    "    parameter_dict,\n",
    "    fisher_properties=fisher_properties,\n",
    ")\n",
    "\n",
    "parameter_name_list, fisher_matrix = Fisher.compute_fisher_matrix()\n",
    "\n"
   ]
  },
  {
   "cell_type": "code",
   "execution_count": 14,
   "id": "df04ade7-7115-4435-a8ea-c80df6f86f9d",
   "metadata": {
    "tags": []
   },
   "outputs": [
    {
     "data": {
      "text/plain": [
       "array([[101.40216964, -60.04931404],\n",
       "       [-60.04931404,  35.56547077]])"
      ]
     },
     "execution_count": 14,
     "metadata": {},
     "output_type": "execute_result"
    }
   ],
   "source": [
    "fisher_matrix"
   ]
  },
  {
   "cell_type": "code",
   "execution_count": null,
   "id": "c4e5aae6-b3bd-4512-895b-556af4b51418",
   "metadata": {},
   "outputs": [],
   "source": []
  }
 ],
 "metadata": {
  "kernelspec": {
   "display_name": "flip",
   "language": "python",
   "name": "flip"
  },
  "language_info": {
   "codemirror_mode": {
    "name": "ipython",
    "version": 3
   },
   "file_extension": ".py",
   "mimetype": "text/x-python",
   "name": "python",
   "nbconvert_exporter": "python",
   "pygments_lexer": "ipython3",
   "version": "3.11.9"
  }
 },
 "nbformat": 4,
 "nbformat_minor": 5
}
